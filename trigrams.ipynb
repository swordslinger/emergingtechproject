{
 "cells": [
  {
   "cell_type": "markdown",
   "metadata": {},
   "source": [
    "# Tasks For Emerging Technologies\n",
    "\n",
    "***"
   ]
  },
  {
   "cell_type": "code",
   "execution_count": 3,
   "metadata": {},
   "outputs": [],
   "source": [
    "# imports.\n",
    "\n",
    "# Efficent data processing\n",
    "import itertools\n",
    "\n",
    "# Efficent data structures \n",
    "import collections   \n",
    "\n",
    "# \n",
    "import os"
   ]
  },
  {
   "cell_type": "markdown",
   "metadata": {},
   "source": [
    "## Task 1 Third-order letter approximation model"
   ]
  },
  {
   "cell_type": "markdown",
   "metadata": {},
   "source": [
    "Select five free English works in Plain Text UTF8 format from Project Gutenberg. Use them to create a model of the English language as follows. Remove any preamble and postamble. Remove all characters except for (ASCII) letters (uppercase and lowercase), full stops, and spaces. Make all letters uppercase.\n",
    "\n",
    "Next create a trigram model by counting the number of times each sequence of three characters (that is, each trigram) appears. You can design your own data structure for storing the results but explain your design and its rationale in your answer."
   ]
  },
  {
   "cell_type": "markdown",
   "metadata": {},
   "source": [
    "### Reading in 5 English Works\n",
    "\n",
    "The following function was adapted from a response from ChatGPT in conjunction with a jupyter notebook. <br>\n",
    "https://chatgpt.com/share/66ffdf0f-4094-800d-9ae9-63ffb9b20043 <br>\n",
    "https://github.com/ianmcloughlin/2425_emerging_technologies/blob/main/02_language_models.ipynb\n",
    "\n",
    "This was used to get the first 3 elements of test <br>\n",
    "https://stackoverflow.com/questions/26864008/simplest-way-to-get-the-first-n-elements-of-an-iterator <br>\n",
    "\n",
    "For correct dropwhile usage <br>\n",
    "https://docs.python.org/3/library/itertools.html#itertools.dropwhile"
   ]
  },
  {
   "cell_type": "code",
   "execution_count": 8,
   "metadata": {},
   "outputs": [],
   "source": [
    "totalChar = collections.Counter()\n",
    "fileIndex = 0"
   ]
  },
  {
   "cell_type": "code",
   "execution_count": 9,
   "metadata": {},
   "outputs": [],
   "source": [
    "\n",
    "# list of files to be read\n",
    "fileList = os.listdir('englishworks')"
   ]
  },
  {
   "cell_type": "code",
   "execution_count": 10,
   "metadata": {},
   "outputs": [],
   "source": [
    "for i in range(len(fileList)):\n",
    "    fileList[i] = 'englishworks/' + fileList[i] "
   ]
  },
  {
   "cell_type": "code",
   "execution_count": 16,
   "metadata": {},
   "outputs": [],
   "source": [
    "\n",
    "file1 = open(fileList[i], 'r')"
   ]
  },
  {
   "cell_type": "code",
   "execution_count": 32,
   "metadata": {},
   "outputs": [],
   "source": [
    "# Removes text before \"*** Start\"\n",
    "englishStart = itertools.dropwhile(lambda _start: '*** START' not in _start, file1)"
   ]
  },
  {
   "cell_type": "code",
   "execution_count": 33,
   "metadata": {},
   "outputs": [],
   "source": [
    "# Removes text after \"*** End\"\n",
    "english = itertools.takewhile(lambda _end: '*** End' not in _end, englishStart)  "
   ]
  },
  {
   "cell_type": "code",
   "execution_count": 35,
   "metadata": {},
   "outputs": [],
   "source": [
    "# Converts from iterator to string\n",
    "words = ''.join(english)"
   ]
  },
  {
   "cell_type": "code",
   "execution_count": 36,
   "metadata": {},
   "outputs": [],
   "source": [
    "# Converts all the Strings to uppercase\n",
    "words = words.upper()"
   ]
  },
  {
   "cell_type": "code",
   "execution_count": 37,
   "metadata": {},
   "outputs": [],
   "source": [
    "# Characters to be kept \n",
    "keep = 'ABCDEFGHIJKLMNOPQRSTUVWXYZ .'"
   ]
  },
  {
   "cell_type": "code",
   "execution_count": 38,
   "metadata": {},
   "outputs": [],
   "source": [
    "# filters out all of the characters from words that is not in keep\n",
    "cleaned = ''.join(c for c in words if c in keep)"
   ]
  },
  {
   "cell_type": "code",
   "execution_count": 39,
   "metadata": {},
   "outputs": [],
   "source": [
    "# Counts how many times each character appears\n",
    "counts = collections.Counter(cleaned)"
   ]
  },
  {
   "cell_type": "code",
   "execution_count": 40,
   "metadata": {},
   "outputs": [],
   "source": [
    "totalChar.update(counts)"
   ]
  },
  {
   "cell_type": "code",
   "execution_count": 41,
   "metadata": {},
   "outputs": [
    {
     "name": "stdout",
     "output_type": "stream",
     "text": [
      "Counter({' ': 106936, 'E': 69458, 'T': 47570, 'A': 43274, 'O': 39592, 'N': 38156, 'I': 36758, 'S': 35168, 'R': 34932, 'H': 28350, 'L': 22338, 'D': 20750, 'U': 15294, 'C': 15166, 'M': 12726, 'F': 12572, 'Y': 10502, 'P': 10310, 'W': 10244, 'G': 10188, 'B': 8684, 'V': 5986, '.': 4594, 'K': 3046, 'J': 1188, 'X': 1020, 'Q': 630, 'Z': 338})\n"
     ]
    }
   ],
   "source": [
    "print(totalChar)"
   ]
  }
 ],
 "metadata": {
  "kernelspec": {
   "display_name": "Python 3",
   "language": "python",
   "name": "python3"
  },
  "language_info": {
   "codemirror_mode": {
    "name": "ipython",
    "version": 3
   },
   "file_extension": ".py",
   "mimetype": "text/x-python",
   "name": "python",
   "nbconvert_exporter": "python",
   "pygments_lexer": "ipython3",
   "version": "3.12.1"
  }
 },
 "nbformat": 4,
 "nbformat_minor": 2
}
