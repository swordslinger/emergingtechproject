{
 "cells": [
  {
   "cell_type": "markdown",
   "metadata": {},
   "source": [
    "# Tasks For Emerging Technologies\n",
    "\n",
    "***"
   ]
  },
  {
   "cell_type": "code",
   "execution_count": 4,
   "metadata": {},
   "outputs": [],
   "source": [
    "import itertools\n",
    "import collections\n",
    "\n",
    "   "
   ]
  },
  {
   "cell_type": "markdown",
   "metadata": {},
   "source": [
    "## Task 1 Third-order letter approximation model"
   ]
  },
  {
   "cell_type": "markdown",
   "metadata": {},
   "source": [
    "Select five free English works in Plain Text UTF8 format from Project Gutenberg. Use them to create a model of the English language as follows. Remove any preamble and postamble. Remove all characters except for (ASCII) letters (uppercase and lowercase), full stops, and spaces. Make all letters uppercase.\n",
    "\n",
    "Next create a trigram model by counting the number of times each sequence of three characters (that is, each trigram) appears. You can design your own data structure for storing the results but explain your design and its rationale in your answer."
   ]
  },
  {
   "cell_type": "markdown",
   "metadata": {},
   "source": [
    "### Reading in 5 English Workshttps://stackoverflow.com/questions/26864008/simplest-way-to-get-the-first-n-elements-of-an-iterator"
   ]
  },
  {
   "cell_type": "code",
   "execution_count": 21,
   "metadata": {},
   "outputs": [],
   "source": [
    "def read_englishworks(filename):\n",
    "    with open(filename, 'r') as file:\n",
    "        # Read the whole file into a string.\n",
    "        english = itertools.dropwhile(lambda _start: '*** START' not in _start, file)\n",
    "\n",
    "        # ensuring cpde works as intended\n",
    "        test = itertools.islice(english,3)\n",
    "\n",
    "        #print(list(test))\n",
    "        #print(type(english))\n",
    "\n",
    "        words = ''.join(english)\n",
    "       # print(words)\n",
    "        words = words.upper()\n",
    "       # print(words)\n",
    "        keep = 'ABCDEFGHIJKLMNOPQRSTUVWXYZ .'\n",
    "        cleaned = ''.join(c for c in words if c in keep)\n",
    "        #print(cleaned)\n",
    "        counts = collections.Counter(cleaned)\n",
    "        for char, count in counts.items():\n",
    "            print(f\"'{char}' : {count}\")\n",
    "\n",
    "\n",
    "        # Change everything to lower case.\n",
    "        #english = english.lower()\n",
    "        # The characters to keep.\n",
    "        #keep = 'abcdefghijklmnopqrstuvwxyz .'\n",
    "        # Remove unwanted characters.\n",
    "        #cleaned = ''.join(c for c in english if c in keep)\n",
    "        # Count the frequency of each character.\n",
    "        #counts = collections.Counter(cleaned)\n",
    "        # Print the results\n",
    "        #for char, count in counts.items():\n",
    "        #    print(f\"'{char}': {count}\")\n"
   ]
  },
  {
   "cell_type": "code",
   "execution_count": 22,
   "metadata": {},
   "outputs": [
    {
     "name": "stdout",
     "output_type": "stream",
     "text": [
      "' ' : 101188\n",
      "'S' : 31613\n",
      "'T' : 44655\n",
      "'A' : 42954\n",
      "'R' : 32366\n",
      "'O' : 37077\n",
      "'F' : 13076\n",
      "'H' : 24697\n",
      "'E' : 60867\n",
      "'P' : 11248\n",
      "'J' : 563\n",
      "'C' : 16430\n",
      "'G' : 9308\n",
      "'U' : 13613\n",
      "'N' : 36987\n",
      "'B' : 7007\n",
      "'K' : 2318\n",
      "'I' : 35863\n",
      "'L' : 20839\n",
      "'D' : 19238\n",
      "'Y' : 7310\n",
      "'M' : 10437\n",
      "'W' : 8247\n",
      "'.' : 3494\n",
      "'Q' : 841\n",
      "'Z' : 437\n",
      "'V' : 4908\n",
      "'X' : 1020\n"
     ]
    }
   ],
   "source": [
    "read_englishworks(\"/workspaces/emergingtechproject/englishworks/chiletodayandtomorrow.txt\")"
   ]
  }
 ],
 "metadata": {
  "kernelspec": {
   "display_name": "Python 3",
   "language": "python",
   "name": "python3"
  },
  "language_info": {
   "codemirror_mode": {
    "name": "ipython",
    "version": 3
   },
   "file_extension": ".py",
   "mimetype": "text/x-python",
   "name": "python",
   "nbconvert_exporter": "python",
   "pygments_lexer": "ipython3",
   "version": "3.12.1"
  }
 },
 "nbformat": 4,
 "nbformat_minor": 2
}
